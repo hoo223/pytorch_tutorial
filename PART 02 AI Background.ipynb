{
 "cells": [
  {
   "cell_type": "markdown",
   "id": "6aad7ab3",
   "metadata": {},
   "source": [
    "# 01 인공지능(딥러닝)의 정의와 사례"
   ]
  },
  {
   "cell_type": "markdown",
   "id": "dd71a167",
   "metadata": {},
   "source": [
    "## 1.1 인공지능이란?"
   ]
  },
  {
   "cell_type": "markdown",
   "id": "a40a1519",
   "metadata": {},
   "source": [
    "## 1.2 인공지능의 사례"
   ]
  },
  {
   "cell_type": "code",
   "execution_count": null,
   "id": "feaf1c8b",
   "metadata": {},
   "outputs": [],
   "source": [
    "# [예제 2-1] 사람의 손글씨 데이터인 MNIST를 이용해 Multi Layer Perceptron(MLP) 설계하기"
   ]
  },
  {
   "cell_type": "code",
   "execution_count": 30,
   "id": "f9bce42a",
   "metadata": {},
   "outputs": [],
   "source": [
    "''' 1. Module Import '''\n",
    "import numpy as np\n",
    "import matplotlib.pyplot as plt\n",
    "import torch\n",
    "import torch.nn as nn\n",
    "import torch.nn.functional as F\n",
    "from torchvision import transforms, datasets"
   ]
  },
  {
   "cell_type": "code",
   "execution_count": 31,
   "id": "3cc365d4",
   "metadata": {},
   "outputs": [
    {
     "name": "stdout",
     "output_type": "stream",
     "text": [
      "Using PyTorch version: 1.11.0+cu113  Device: cuda\n"
     ]
    }
   ],
   "source": [
    "''' 2. 딥러닝 모델을 설계할 때 활요하는 장비 확인 '''\n",
    "if torch.cuda.is_available():\n",
    "    DEVICE = torch.device('cuda')\n",
    "else:\n",
    "    DEVICE = torch.device('cpu')\n",
    "    \n",
    "print('Using PyTorch version:', torch.__version__, ' Device:', DEVICE)"
   ]
  },
  {
   "cell_type": "code",
   "execution_count": 32,
   "id": "7a5a6285",
   "metadata": {},
   "outputs": [],
   "source": [
    "BATCH_SIZE = 32\n",
    "EPOCHS = 10"
   ]
  },
  {
   "cell_type": "code",
   "execution_count": 36,
   "id": "84bc309c",
   "metadata": {},
   "outputs": [
    {
     "name": "stdout",
     "output_type": "stream",
     "text": [
      "Downloading http://yann.lecun.com/exdb/mnist/train-images-idx3-ubyte.gz\n",
      "Downloading http://yann.lecun.com/exdb/mnist/train-images-idx3-ubyte.gz to ./data/MNIST/MNIST/raw/train-images-idx3-ubyte.gz\n"
     ]
    },
    {
     "name": "stderr",
     "output_type": "stream",
     "text": [
      "31.0%IOPub message rate exceeded.\n",
      "The notebook server will temporarily stop sending output\n",
      "to the client in order to avoid crashing it.\n",
      "To change this limit, set the config variable\n",
      "`--NotebookApp.iopub_msg_rate_limit`.\n",
      "\n",
      "Current values:\n",
      "NotebookApp.iopub_msg_rate_limit=1000.0 (msgs/sec)\n",
      "NotebookApp.rate_limit_window=3.0 (secs)\n",
      "\n",
      "97.6%IOPub message rate exceeded.\n",
      "The notebook server will temporarily stop sending output\n",
      "to the client in order to avoid crashing it.\n",
      "To change this limit, set the config variable\n",
      "`--NotebookApp.iopub_msg_rate_limit`.\n",
      "\n",
      "Current values:\n",
      "NotebookApp.iopub_msg_rate_limit=1000.0 (msgs/sec)\n",
      "NotebookApp.rate_limit_window=3.0 (secs)\n",
      "\n"
     ]
    }
   ],
   "source": [
    "''' 3. MNIST 데이터 다운로드(Train set, Test set 분리하기) '''\n",
    "train_dataset = datasets.MNIST(root = \"./data/MNIST\",\n",
    "                              train = True,\n",
    "                              download = True,\n",
    "                              transform = transforms.ToTensor())\n",
    "test_dataset = datasets.MNIST(root = \"./data/MNIST/\",\n",
    "                              train = False,\n",
    "                              transform = transforms.ToTensor())\n",
    "train_loader = torch.utils.data.DataLoader(dataset = train_dataset,\n",
    "                                          batch_size = BATCH_SIZE,\n",
    "                                          shuffle = True)\n",
    "test_loader = torch.utils.data.DataLoader(dataset = train_dataset,\n",
    "                                          batch_size = BATCH_SIZE,\n",
    "                                          shuffle = False)"
   ]
  },
  {
   "cell_type": "code",
   "execution_count": 41,
   "id": "774d04a0",
   "metadata": {},
   "outputs": [
    {
     "name": "stdout",
     "output_type": "stream",
     "text": [
      "X_train: torch.Size([32, 1, 28, 28]) type: torch.FloatTensor\n",
      "y_train: torch.Size([32]) type: torch.LongTensor\n"
     ]
    }
   ],
   "source": [
    "''' 4. 데이터 확인하기 (1) '''\n",
    "for (X_train, y_train) in train_loader:\n",
    "    print('X_train:', X_train.size(), 'type:', X_train.type())\n",
    "    print('y_train:', y_train.size(), 'type:', y_train.type())\n",
    "    break"
   ]
  },
  {
   "cell_type": "code",
   "execution_count": 43,
   "id": "3319c19a",
   "metadata": {},
   "outputs": [
    {
     "data": {
      "image/png": "[encoded data removed]",
      "text/plain": [
       "<Figure size 1000x100 with 10 Axes>"
      ]
     },
     "metadata": {},
     "output_type": "display_data"
    }
   ],
   "source": [
    "''' 5. 데이터 확인하기 (2) '''\n",
    "pltsize = 1\n",
    "plt.figure(figsize=(10 * pltsize, pltsize))\n",
    "for i in range(10):\n",
    "    plt.subplot(1, 10, i+1)\n",
    "    plt.axis('off')\n",
    "    plt.imshow(X_train[i, :, :, :].numpy().reshape(28, 28), cmap = \"gray_r\")\n",
    "    plt.title('Class: ' + str(y_train[i].item()))"
   ]
  },
  {
   "cell_type": "code",
   "execution_count": 44,
   "id": "1cf61f3c",
   "metadata": {},
   "outputs": [],
   "source": [
    "''' 6. MLP(Multi Layer Perceptron) 모델 설계하기 '''\n",
    "class Net(nn.Module): # nn.Module 클래스 상속 -> 딥러닝 모델 관련 기본 함수를 포함\n",
    "    def __init__(self): #  인스턴스 생성 시 지니게 되는 성질을 정의해주는 메서드\n",
    "        super(Net, self).__init__() # nn.Module 내에 있는 매서드를 상속받아 이용\n",
    "        self.fc1 = nn.Linear(28 * 28, 512) # 첫 번째 Fully Connected Layer 정의\n",
    "        self.fc2 = nn.Linear(512, 256) # 두 번째 Fully Connected Layer 정의\n",
    "        self.fc3 = nn.Linear(256, 10) # 세 번째 Fully Connected Layer 정의\n",
    "    def forward(self, x): # Forward Propagation 정의\n",
    "        x = x.view(-1, 28 * 28) # 2차원 데이터를 1차원 데이터로 변환 -> MLP 모델은 1차원의 벡터 값을 입력으로 받을 수 있음\n",
    "        x = self.fc1(x)\n",
    "        x = F.sigmoid(x) # 활성화 함수\n",
    "        x = self.fc2(x)\n",
    "        x = F.sigmoid(x)\n",
    "        x = self.fc3(x)\n",
    "        x = F.log_softmax(x, dim = 1) # 확률 값 계산. log_softmax를 사용하는 이유는 gradient 값을 좀 더 원활하게 계산하기 위해 \n",
    "        return x"
   ]
  },
  {
   "cell_type": "code",
   "execution_count": 49,
   "id": "af9807bf",
   "metadata": {},
   "outputs": [
    {
     "name": "stdout",
     "output_type": "stream",
     "text": [
      "Net(\n",
      "  (fc1): Linear(in_features=784, out_features=512, bias=True)\n",
      "  (fc2): Linear(in_features=512, out_features=256, bias=True)\n",
      "  (fc3): Linear(in_features=256, out_features=10, bias=True)\n",
      ")\n"
     ]
    }
   ],
   "source": [
    "''' 7. Optimizer, Objective Function 설정하기 '''\n",
    "model = Net().to(DEVICE)\n",
    "optimizer = torch.optim.SGD(model.parameters(), lr = 0.01, momentum = 0.5)\n",
    "criterion = nn.CrossEntropyLoss()\n",
    "\n",
    "print(model)"
   ]
  },
  {
   "cell_type": "code",
   "execution_count": 51,
   "id": "c16cc4ee",
   "metadata": {},
   "outputs": [],
   "source": [
    "''' 8. MLP 모델 학습을 진행하며 학습 데이터에 대한 모델 성능을 확인하는 함수 정의 '''\n",
    "def train(model, train_loader, optimizer, log_interval):\n",
    "    model.train() # 모델을 학습 상태로 지정\n",
    "    for batch_idx, (image, label) in enumerate(train_loader):\n",
    "        image = image.to(DEVICE) # 기존 정의한 장비에 할당\n",
    "        label = label.to(DEVICE) # 기존 정의한 장비에 할당\n",
    "        optimizer.zero_grad() # 기존 할당되어 있던 gradient 값 초기화\n",
    "        output = model(image) # Forward propagation\n",
    "        loss = criterion(output, label) # loss 계산\n",
    "        loss.backward() # Backpropagation을 통해 계산된 gradient 값을 각 파라미터에 할당\n",
    "        optimizer.step() # 파라미터 업데이트\n",
    "        \n",
    "        if batch_idx % log_interval == 0:\n",
    "            print(\"Train Epoch: {} [{}/{}({:.0f}%)]\\tTrain Loss: {:.6f}\".format(\n",
    "                  Epoch, batch_idx * len(image),\n",
    "                  len(train_loader.dataset), 100. * batch_idx / len(train_loader),\n",
    "                  loss.item()))"
   ]
  },
  {
   "cell_type": "code",
   "execution_count": 53,
   "id": "02905730",
   "metadata": {},
   "outputs": [],
   "source": [
    "''' 9. 학습되는 과정 속에서 검증 데이터에 대한 모델 성능을 확인하는 함수 정의 '''\n",
    "def evaluate(model, test_loader):\n",
    "    model.eval() # 모델을 평가 상태로 지정\n",
    "    test_loss = 0\n",
    "    correct = 0\n",
    "    \n",
    "    with torch.no_grad(): # 평가하는 단계에서 gradient를 통해 파라미터 값이 업데이트되는 현상을 방지\n",
    "        for image, label in test_loader:\n",
    "            image = image.to(DEVICE) # 기존 정의한 장비에 할당\n",
    "            label = label.to(DEVICE) # 기존 정의한 장비에 할당\n",
    "            output = model(image) # Forward propagation\n",
    "            test_loss += criterion(output, label).item() # loss 누적\n",
    "            prediction = output.max(1, keepdim = True)[1]\n",
    "            correct += prediction.eq(label.view_as(prediction)).sum().item() \n",
    "            \n",
    "    test_loss /= len(test_loader.dataset) # 평균 loss 계산\n",
    "    test_accuracy = 100. * correct / len(test_loader.dataset) # 정확도 계산\n",
    "    return test_loss, test_accuracy"
   ]
  },
  {
   "cell_type": "code",
   "execution_count": 54,
   "id": "647839fd",
   "metadata": {},
   "outputs": [
    {
     "name": "stderr",
     "output_type": "stream",
     "text": [
      "/usr/local/lib/python3.8/dist-packages/torch/nn/functional.py:1944: UserWarning: nn.functional.sigmoid is deprecated. Use torch.sigmoid instead.\n",
      "  warnings.warn(\"nn.functional.sigmoid is deprecated. Use torch.sigmoid instead.\")\n"
     ]
    },
    {
     "name": "stdout",
     "output_type": "stream",
     "text": [
      "Train Epoch: 1 [0/60000(0%)]\tTrain Loss: 2.362547\n",
      "Train Epoch: 1 [6400/60000(11%)]\tTrain Loss: 2.337290\n",
      "Train Epoch: 1 [12800/60000(21%)]\tTrain Loss: 2.267462\n",
      "Train Epoch: 1 [19200/60000(32%)]\tTrain Loss: 2.334592\n",
      "Train Epoch: 1 [25600/60000(43%)]\tTrain Loss: 2.316110\n",
      "Train Epoch: 1 [32000/60000(53%)]\tTrain Loss: 2.276572\n",
      "Train Epoch: 1 [38400/60000(64%)]\tTrain Loss: 2.288169\n",
      "Train Epoch: 1 [44800/60000(75%)]\tTrain Loss: 2.317522\n",
      "Train Epoch: 1 [51200/60000(85%)]\tTrain Loss: 2.262874\n",
      "Train Epoch: 1 [57600/60000(96%)]\tTrain Loss: 2.260268\n",
      "\n",
      "EPOCH: 1], \tTest Loss: 0.0697, \tTest Accuracy: 33.33 %\n",
      "\n",
      "Train Epoch: 2 [0/60000(0%)]\tTrain Loss: 2.240601\n",
      "Train Epoch: 2 [6400/60000(11%)]\tTrain Loss: 2.184750\n",
      "Train Epoch: 2 [12800/60000(21%)]\tTrain Loss: 2.162013\n",
      "Train Epoch: 2 [19200/60000(32%)]\tTrain Loss: 2.142684\n",
      "Train Epoch: 2 [25600/60000(43%)]\tTrain Loss: 2.119725\n",
      "Train Epoch: 2 [32000/60000(53%)]\tTrain Loss: 1.946357\n",
      "Train Epoch: 2 [38400/60000(64%)]\tTrain Loss: 1.715196\n",
      "Train Epoch: 2 [44800/60000(75%)]\tTrain Loss: 1.620275\n",
      "Train Epoch: 2 [51200/60000(85%)]\tTrain Loss: 1.520252\n",
      "Train Epoch: 2 [57600/60000(96%)]\tTrain Loss: 0.978589\n",
      "\n",
      "EPOCH: 2], \tTest Loss: 0.0411, \tTest Accuracy: 62.74 %\n",
      "\n",
      "Train Epoch: 3 [0/60000(0%)]\tTrain Loss: 1.373650\n",
      "Train Epoch: 3 [6400/60000(11%)]\tTrain Loss: 1.105831\n",
      "Train Epoch: 3 [12800/60000(21%)]\tTrain Loss: 1.170523\n",
      "Train Epoch: 3 [19200/60000(32%)]\tTrain Loss: 0.949104\n",
      "Train Epoch: 3 [25600/60000(43%)]\tTrain Loss: 1.006844\n",
      "Train Epoch: 3 [32000/60000(53%)]\tTrain Loss: 0.871324\n",
      "Train Epoch: 3 [38400/60000(64%)]\tTrain Loss: 0.803692\n",
      "Train Epoch: 3 [44800/60000(75%)]\tTrain Loss: 0.929443\n",
      "Train Epoch: 3 [51200/60000(85%)]\tTrain Loss: 0.737533\n",
      "Train Epoch: 3 [57600/60000(96%)]\tTrain Loss: 0.743806\n",
      "\n",
      "EPOCH: 3], \tTest Loss: 0.0238, \tTest Accuracy: 76.76 %\n",
      "\n",
      "Train Epoch: 4 [0/60000(0%)]\tTrain Loss: 0.869745\n",
      "Train Epoch: 4 [6400/60000(11%)]\tTrain Loss: 0.599291\n",
      "Train Epoch: 4 [12800/60000(21%)]\tTrain Loss: 0.686512\n",
      "Train Epoch: 4 [19200/60000(32%)]\tTrain Loss: 0.402683\n",
      "Train Epoch: 4 [25600/60000(43%)]\tTrain Loss: 0.903268\n",
      "Train Epoch: 4 [32000/60000(53%)]\tTrain Loss: 0.462804\n",
      "Train Epoch: 4 [38400/60000(64%)]\tTrain Loss: 0.649005\n",
      "Train Epoch: 4 [44800/60000(75%)]\tTrain Loss: 0.452084\n",
      "Train Epoch: 4 [51200/60000(85%)]\tTrain Loss: 0.542616\n",
      "Train Epoch: 4 [57600/60000(96%)]\tTrain Loss: 0.584998\n",
      "\n",
      "EPOCH: 4], \tTest Loss: 0.0174, \tTest Accuracy: 83.74 %\n",
      "\n",
      "Train Epoch: 5 [0/60000(0%)]\tTrain Loss: 0.495486\n",
      "Train Epoch: 5 [6400/60000(11%)]\tTrain Loss: 0.846581\n",
      "Train Epoch: 5 [12800/60000(21%)]\tTrain Loss: 0.683171\n",
      "Train Epoch: 5 [19200/60000(32%)]\tTrain Loss: 0.567942\n",
      "Train Epoch: 5 [25600/60000(43%)]\tTrain Loss: 0.461372\n",
      "Train Epoch: 5 [32000/60000(53%)]\tTrain Loss: 0.628620\n",
      "Train Epoch: 5 [38400/60000(64%)]\tTrain Loss: 0.652203\n",
      "Train Epoch: 5 [44800/60000(75%)]\tTrain Loss: 0.614773\n",
      "Train Epoch: 5 [51200/60000(85%)]\tTrain Loss: 0.572788\n",
      "Train Epoch: 5 [57600/60000(96%)]\tTrain Loss: 0.508726\n",
      "\n",
      "EPOCH: 5], \tTest Loss: 0.0146, \tTest Accuracy: 86.50 %\n",
      "\n",
      "Train Epoch: 6 [0/60000(0%)]\tTrain Loss: 0.409268\n",
      "Train Epoch: 6 [6400/60000(11%)]\tTrain Loss: 0.540660\n",
      "Train Epoch: 6 [12800/60000(21%)]\tTrain Loss: 0.551660\n",
      "Train Epoch: 6 [19200/60000(32%)]\tTrain Loss: 0.798256\n",
      "Train Epoch: 6 [25600/60000(43%)]\tTrain Loss: 0.203278\n",
      "Train Epoch: 6 [32000/60000(53%)]\tTrain Loss: 0.372927\n",
      "Train Epoch: 6 [38400/60000(64%)]\tTrain Loss: 0.369241\n",
      "Train Epoch: 6 [44800/60000(75%)]\tTrain Loss: 0.402827\n",
      "Train Epoch: 6 [51200/60000(85%)]\tTrain Loss: 0.384875\n",
      "Train Epoch: 6 [57600/60000(96%)]\tTrain Loss: 0.327424\n",
      "\n",
      "EPOCH: 6], \tTest Loss: 0.0131, \tTest Accuracy: 88.03 %\n",
      "\n",
      "Train Epoch: 7 [0/60000(0%)]\tTrain Loss: 0.523260\n",
      "Train Epoch: 7 [6400/60000(11%)]\tTrain Loss: 0.779797\n",
      "Train Epoch: 7 [12800/60000(21%)]\tTrain Loss: 0.785945\n",
      "Train Epoch: 7 [19200/60000(32%)]\tTrain Loss: 0.329476\n",
      "Train Epoch: 7 [25600/60000(43%)]\tTrain Loss: 0.394540\n",
      "Train Epoch: 7 [32000/60000(53%)]\tTrain Loss: 0.659756\n",
      "Train Epoch: 7 [38400/60000(64%)]\tTrain Loss: 0.219835\n",
      "Train Epoch: 7 [44800/60000(75%)]\tTrain Loss: 0.479291\n",
      "Train Epoch: 7 [51200/60000(85%)]\tTrain Loss: 0.388194\n",
      "Train Epoch: 7 [57600/60000(96%)]\tTrain Loss: 0.571446\n",
      "\n",
      "EPOCH: 7], \tTest Loss: 0.0121, \tTest Accuracy: 88.91 %\n",
      "\n",
      "Train Epoch: 8 [0/60000(0%)]\tTrain Loss: 0.238112\n",
      "Train Epoch: 8 [6400/60000(11%)]\tTrain Loss: 0.276048\n",
      "Train Epoch: 8 [12800/60000(21%)]\tTrain Loss: 0.175474\n",
      "Train Epoch: 8 [19200/60000(32%)]\tTrain Loss: 0.309298\n",
      "Train Epoch: 8 [25600/60000(43%)]\tTrain Loss: 0.236732\n",
      "Train Epoch: 8 [32000/60000(53%)]\tTrain Loss: 0.471704\n",
      "Train Epoch: 8 [38400/60000(64%)]\tTrain Loss: 0.414789\n",
      "Train Epoch: 8 [44800/60000(75%)]\tTrain Loss: 0.196143\n",
      "Train Epoch: 8 [51200/60000(85%)]\tTrain Loss: 0.551842\n",
      "Train Epoch: 8 [57600/60000(96%)]\tTrain Loss: 0.203212\n",
      "\n",
      "EPOCH: 8], \tTest Loss: 0.0115, \tTest Accuracy: 89.44 %\n",
      "\n",
      "Train Epoch: 9 [0/60000(0%)]\tTrain Loss: 0.343992\n",
      "Train Epoch: 9 [6400/60000(11%)]\tTrain Loss: 0.489332\n",
      "Train Epoch: 9 [12800/60000(21%)]\tTrain Loss: 0.382820\n",
      "Train Epoch: 9 [19200/60000(32%)]\tTrain Loss: 0.247106\n",
      "Train Epoch: 9 [25600/60000(43%)]\tTrain Loss: 0.150891\n",
      "Train Epoch: 9 [32000/60000(53%)]\tTrain Loss: 0.313497\n",
      "Train Epoch: 9 [38400/60000(64%)]\tTrain Loss: 0.308336\n",
      "Train Epoch: 9 [44800/60000(75%)]\tTrain Loss: 0.594009\n",
      "Train Epoch: 9 [51200/60000(85%)]\tTrain Loss: 0.544737\n",
      "Train Epoch: 9 [57600/60000(96%)]\tTrain Loss: 0.400921\n",
      "\n",
      "EPOCH: 9], \tTest Loss: 0.0110, \tTest Accuracy: 89.90 %\n",
      "\n",
      "Train Epoch: 10 [0/60000(0%)]\tTrain Loss: 0.132501\n",
      "Train Epoch: 10 [6400/60000(11%)]\tTrain Loss: 0.369448\n",
      "Train Epoch: 10 [12800/60000(21%)]\tTrain Loss: 0.514921\n",
      "Train Epoch: 10 [19200/60000(32%)]\tTrain Loss: 0.250960\n",
      "Train Epoch: 10 [25600/60000(43%)]\tTrain Loss: 0.474153\n",
      "Train Epoch: 10 [32000/60000(53%)]\tTrain Loss: 0.249625\n",
      "Train Epoch: 10 [38400/60000(64%)]\tTrain Loss: 0.482301\n",
      "Train Epoch: 10 [44800/60000(75%)]\tTrain Loss: 0.233039\n",
      "Train Epoch: 10 [51200/60000(85%)]\tTrain Loss: 0.282769\n",
      "Train Epoch: 10 [57600/60000(96%)]\tTrain Loss: 0.302215\n",
      "\n",
      "EPOCH: 10], \tTest Loss: 0.0107, \tTest Accuracy: 90.28 %\n",
      "\n"
     ]
    }
   ],
   "source": [
    "''' 10. MLP 학습을 실행하면서 Train, Test set의 Loss 및 Test set Accuracy를 확인하기 '''\n",
    "for Epoch in range(1, EPOCHS + 1):\n",
    "    train(model, train_loader, optimizer, log_interval = 200)\n",
    "    test_loss, test_accuracy = evaluate(model, test_loader)\n",
    "    print(\"\\nEPOCH: {}], \\tTest Loss: {:.4f}, \\tTest Accuracy: {:.2f} %\\n\".format(Epoch, test_loss, test_accuracy))"
   ]
  },
  {
   "cell_type": "code",
   "execution_count": null,
   "id": "98c8a073",
   "metadata": {},
   "outputs": [],
   "source": []
  }
 ],
 "metadata": {
  "kernelspec": {
   "display_name": "Python 3 (ipykernel)",
   "language": "python",
   "name": "python3"
  },
  "language_info": {
   "codemirror_mode": {
    "name": "ipython",
    "version": 3
   },
   "file_extension": ".py",
   "mimetype": "text/x-python",
   "name": "python",
   "nbconvert_exporter": "python",
   "pygments_lexer": "ipython3",
   "version": "3.8.0"
  }
 },
 "nbformat": 4,
 "nbformat_minor": 5
}
