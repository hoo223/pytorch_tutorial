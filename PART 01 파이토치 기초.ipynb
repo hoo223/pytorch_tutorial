{
 "cells": [
  {
   "cell_type": "markdown",
   "id": "4b28f9b8",
   "metadata": {},
   "source": [
    "# 04 반드시 알아야 하는 파이토치 스킬"
   ]
  },
  {
   "cell_type": "markdown",
   "id": "7aafc1f8",
   "metadata": {},
   "source": [
    "## 4.1 텐서"
   ]
  },
  {
   "cell_type": "markdown",
   "id": "ae35f00d",
   "metadata": {},
   "source": [
    "### 4.1.1 Scalar"
   ]
  },
  {
   "cell_type": "code",
   "execution_count": 29,
   "id": "e67e512a",
   "metadata": {},
   "outputs": [
    {
     "name": "stdout",
     "output_type": "stream",
     "text": [
      "tensor([1.])\n",
      "tensor([3.])\n"
     ]
    }
   ],
   "source": [
    "# 텐서 메서드를 이용한 스칼라 값 정의\n",
    "import torch\n",
    "scalar1 = torch.tensor([1.])\n",
    "print(scalar1)\n",
    "scalar2 = torch.tensor([3.])\n",
    "print(scalar2)"
   ]
  },
  {
   "cell_type": "code",
   "execution_count": 6,
   "id": "37d01dc4",
   "metadata": {},
   "outputs": [
    {
     "name": "stdout",
     "output_type": "stream",
     "text": [
      "tensor([4.])\n"
     ]
    }
   ],
   "source": [
    "# 스칼라 값 간의 사칙연산\n",
    "add_scalar = scalar1 + scalar2\n",
    "print(add_scalar)"
   ]
  },
  {
   "cell_type": "markdown",
   "id": "ba59e11e",
   "metadata": {},
   "source": [
    "### 4.1.2 Vector"
   ]
  },
  {
   "cell_type": "markdown",
   "id": "48679777",
   "metadata": {},
   "source": [
    "### 4.1.3 행렬"
   ]
  },
  {
   "cell_type": "markdown",
   "id": "e1c748de",
   "metadata": {},
   "source": [
    "### 4.1.4 텐서"
   ]
  },
  {
   "cell_type": "markdown",
   "id": "fabc4114",
   "metadata": {},
   "source": [
    "## 4.2 Autograd"
   ]
  },
  {
   "cell_type": "code",
   "execution_count": 9,
   "id": "80124440",
   "metadata": {},
   "outputs": [
    {
     "name": "stdout",
     "output_type": "stream",
     "text": [
      "cuda\n"
     ]
    }
   ],
   "source": [
    "import torch\n",
    "\n",
    "# Device 확인\n",
    "if torch.cuda.is_available():\n",
    "    DEVICE = torch.device('cuda')\n",
    "else:\n",
    "    DEVICE = torch.device('cpu')\n",
    "print(DEVICE)"
   ]
  },
  {
   "cell_type": "code",
   "execution_count": 10,
   "id": "2fe036e9",
   "metadata": {},
   "outputs": [],
   "source": [
    "# Hyperparameter 설정\n",
    "BATCH_SIZE = 64\n",
    "INPUT_SIZE = 1000\n",
    "HIDDEN_SIZE = 100\n",
    "OUTPUT_SIZE = 10"
   ]
  },
  {
   "cell_type": "code",
   "execution_count": 19,
   "id": "1faf0d7b",
   "metadata": {},
   "outputs": [],
   "source": [
    "# Network 정의\n",
    "# torch.randn -> 평균이 0, 표준편차가 1인 정규분포에서 샘플링\n",
    "x = torch.randn(BATCH_SIZE,\n",
    "                INPUT_SIZE,\n",
    "                device = DEVICE,\n",
    "                dtype = torch.float,\n",
    "                requires_grad = False)\n",
    "y = torch.randn(BATCH_SIZE,\n",
    "                OUTPUT_SIZE,\n",
    "                device = DEVICE,\n",
    "                dtype = torch.float,\n",
    "                requires_grad = False)\n",
    "w1 = torch.randn(INPUT_SIZE,\n",
    "                 HIDDEN_SIZE,\n",
    "                 device = DEVICE,\n",
    "                 dtype = torch.float,\n",
    "                 requires_grad = True)\n",
    "w2 = torch.randn(HIDDEN_SIZE,\n",
    "                 OUTPUT_SIZE,\n",
    "                 device = DEVICE,\n",
    "                 dtype = torch.float,\n",
    "                 requires_grad = True)"
   ]
  },
  {
   "cell_type": "code",
   "execution_count": 28,
   "id": "6684a7f9",
   "metadata": {
    "scrolled": true
   },
   "outputs": [
    {
     "name": "stdout",
     "output_type": "stream",
     "text": [
      "Iteration:  100 \t Loss:  32.85944747924805\n",
      "Iteration:  200 \t Loss:  11.868019104003906\n",
      "Iteration:  300 \t Loss:  15.204971313476562\n",
      "Iteration:  400 \t Loss:  27.040578842163086\n",
      "Iteration:  500 \t Loss:  10.689077377319336\n"
     ]
    }
   ],
   "source": [
    "learning_rate = 1e-6\n",
    "for t in range(1, 501):\n",
    "    y_pred = x.mm(w1).clamp(min = 0).mm(w2)\n",
    "    \n",
    "    loss = (y_pred - y).pow(2).sum()\n",
    "    if t % 100 == 0:\n",
    "        print(\"Iteration: \", t, \"\\t\", \"Loss: \", loss.item())\n",
    "    loss.backward() # backpropagation\n",
    "              \n",
    "    with torch.no_grad(): # gradient 값 고정\n",
    "        # weight parameter update\n",
    "        w1 -= learning_rate * w1.grad \n",
    "        w2 -= learning_rate * w2.grad\n",
    "        # gradient 초기화\n",
    "        w1.grad.zero_()\n",
    "        w2.grad.zero_()"
   ]
  }
 ],
 "metadata": {
  "kernelspec": {
   "display_name": "Python 3 (ipykernel)",
   "language": "python",
   "name": "python3"
  },
  "language_info": {
   "codemirror_mode": {
    "name": "ipython",
    "version": 3
   },
   "file_extension": ".py",
   "mimetype": "text/x-python",
   "name": "python",
   "nbconvert_exporter": "python",
   "pygments_lexer": "ipython3",
   "version": "3.8.0"
  }
 },
 "nbformat": 4,
 "nbformat_minor": 5
}
